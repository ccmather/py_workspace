{
 "cells": [
  {
   "cell_type": "code",
   "execution_count": 15,
   "metadata": {},
   "outputs": [],
   "source": [
    "import os\n",
    "import jieba\n",
    "import warnings\n",
    "from sklearn.feature_extraction.text import TfidfVectorizer\n",
    "from sklearn.naive_bayes import MultinomialNB\n",
    "from sklearn import metrics"
   ]
  },
  {
   "cell_type": "code",
   "execution_count": 3,
   "metadata": {},
   "outputs": [],
   "source": [
    "warnings.filterwarnings('ignore')"
   ]
  },
  {
   "cell_type": "code",
   "execution_count": 4,
   "metadata": {},
   "outputs": [],
   "source": [
    "def cut_words(file_path):\n",
    "    #对文本进行分词，\n",
    "    # param ：file_path ：txt文件路径\n",
    "    # return： text_cut_result 返回带空格的切词结果\n",
    "    text_cut_result = ''\n",
    "    text = open(file_path, 'r', encoding='gb18030').read()\n",
    "    text_cut = jieba.cut(text)\n",
    "    for word in text_cut:\n",
    "        text_cut_result += word +' '\n",
    "    return text_cut_result"
   ]
  },
  {
   "cell_type": "code",
   "execution_count": 5,
   "metadata": {},
   "outputs": [],
   "source": [
    "def loadfile(file_dir, label):\n",
    "    #将路径下的所有文件加载\n",
    "    # param：file_dir:\n",
    "    file_list = os.listdir(file_dir)\n",
    "    word_list = []\n",
    "    label_list = []\n",
    "    for file_n in file_list:\n",
    "        file_path = file_dir + '/' + file_n\n",
    "        word_list.append(cut_words(file_path))\n",
    "        label_list.append(label)\n",
    "    return word_list, label_list"
   ]
  },
  {
   "cell_type": "code",
   "execution_count": 9,
   "metadata": {
    "tags": []
   },
   "outputs": [],
   "source": [
    "#训练数据\n",
    "train_words_list1, train_labels1 = loadfile('/Applications/py_workspace/data_mining/data/text_classification/train/女性', '女性')\n",
    "train_words_list2, train_labels2 = loadfile('/Applications/py_workspace/data_mining/data/text_classification/train/体育', '体育')\n",
    "train_words_list3, train_labels3 = loadfile('/Applications/py_workspace/data_mining/data/text_classification/train/文学', '文学')\n",
    "train_words_list4, train_labels4 = loadfile('/Applications/py_workspace/data_mining/data/text_classification/train/校园', '校园')\n",
    "\n",
    "train_word_list = train_words_list1 + train_words_list2 + train_words_list3 + train_words_list4\n",
    "train_labels = train_labels1 +train_labels2 + train_labels3 + train_labels4\n",
    "\n",
    "test_words_list1, test_labels1 = loadfile('/Applications/py_workspace/data_mining/data/text_classification/test/女性', '女性')\n",
    "test_words_list2, test_labels2 = loadfile('/Applications/py_workspace/data_mining/data/text_classification/test/体育', '体育')\n",
    "test_words_list3, test_labels3 = loadfile('/Applications/py_workspace/data_mining/data/text_classification/test/文学', '文学')\n",
    "test_words_list4, test_labels4 = loadfile('/Applications/py_workspace/data_mining/data/text_classification/test/校园', '校园')\n",
    "\n",
    "test_word_list = test_words_list1 + test_words_list2 + test_words_list3 + test_words_list4\n",
    "test_labels = test_labels1 + test_labels2 + test_labels3 + test_labels4\n",
    "#加载停用词，过滤掉的，我们，词频较高，但无实际意义的词\n",
    "stop_words = open('/Applications/py_workspace/data_mining/data/text_classification/stop/stopword.txt', 'r', encoding='utf-8').read()\n",
    "stop_words = stop_words.encode('utf-8').decode('utf-8-sig') #处理头部\\ufeff，若列表头部无特殊字符，可不用，\n",
    "stop_words = stop_words.split('\\n')\n",
    "\n"
   ]
  },
  {
   "cell_type": "code",
   "execution_count": 10,
   "metadata": {},
   "outputs": [],
   "source": [
    "#计算单词权重 tf-idf，一个单词在一个文档中出现的次数多，又在其他文档中出现的次数少\n",
    "# max_df=0.5，一个单词在50%的文档中都出现过了，那么只携带了很少的信息，因此不作为分词统计\n",
    "\n",
    "tf = TfidfVectorizer(stop_words= stop_words, max_df=0.5)\n",
    "\n",
    "train_features = tf.fit_transform(train_word_list)\n",
    "test_features = tf.transform(test_word_list)"
   ]
  },
  {
   "cell_type": "code",
   "execution_count": 16,
   "metadata": {
    "tags": []
   },
   "outputs": [
    {
     "output_type": "stream",
     "name": "stdout",
     "text": "0.91\n"
    }
   ],
   "source": [
    "#多项式贝叶斯分类器 特征变量是离散变量，符合多项分布，在文档分类中特征变量体现在一个单词出现的次数，或者单词的tf-idf值等\n",
    "#高斯朴素贝叶斯：特征变量是连续变量，符合高斯分布，例如人的身高，物体的长度等\n",
    "#伯努利朴素贝叶斯分类器：特征变量是布尔变量，符合0/1分布，在文档分类中特征是 单词是否出现\n",
    "#alpha ：平滑系数\n",
    "# 若一个单词在训练样本中没有出现，这个单词的概率为0，但训练集样本是整体的抽样情况，不能因为一个事件没有观察到，就认为整个事件的概率为0，\n",
    "#=1 laplace平滑，当样本很大时，+1得到的概率忽略不计\n",
    "#当 0<alpha<1 时，使用的是 Lidstone 平滑。对于 Lidstone 平滑来说，alpha 越小，迭 代次数越多，精度越高。我们可以设置 alpha 为 0.001。\n",
    "\n",
    "\n",
    "clf = MultinomialNB(alpha=0.001).fit(train_features, train_labels)\n",
    "predicted_labels= clf.predict(test_features)\n",
    "\n",
    "accuracy_rate = metrics.accuracy_score(test_labels, predicted_labels)\n",
    "print(accuracy_rate)"
   ]
  },
  {
   "cell_type": "code",
   "execution_count": null,
   "metadata": {},
   "outputs": [],
   "source": []
  }
 ],
 "metadata": {
  "language_info": {
   "codemirror_mode": {
    "name": "ipython",
    "version": 3
   },
   "file_extension": ".py",
   "mimetype": "text/x-python",
   "name": "python",
   "nbconvert_exporter": "python",
   "pygments_lexer": "ipython3",
   "version": "3.7.6-final"
  },
  "orig_nbformat": 2,
  "kernelspec": {
   "name": "python3",
   "display_name": "Python 3"
  }
 },
 "nbformat": 4,
 "nbformat_minor": 2
}