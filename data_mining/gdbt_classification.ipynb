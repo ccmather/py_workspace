{
 "metadata": {
  "language_info": {
   "codemirror_mode": {
    "name": "ipython",
    "version": 3
   },
   "file_extension": ".py",
   "mimetype": "text/x-python",
   "name": "python",
   "nbconvert_exporter": "python",
   "pygments_lexer": "ipython3",
   "version": "3.7.6-final"
  },
  "orig_nbformat": 2,
  "kernelspec": {
   "name": "python3",
   "display_name": "Python 3"
  }
 },
 "nbformat": 4,
 "nbformat_minor": 2,
 "cells": [
  {
   "cell_type": "code",
   "execution_count": 1,
   "metadata": {
    "tags": []
   },
   "outputs": [
    {
     "output_type": "stream",
     "name": "stdout",
     "text": "------------start------------\n"
    }
   ],
   "source": [
    "import pandas as pd\n",
    "import numpy as np\n",
    "from sklearn.ensemble import GradientBoostingClassifier\n",
    "from sklearn import metrics\n",
    "from sklearn.model_selection import GridSearchCV\n",
    "\n",
    "print('------------start------------')"
   ]
  },
  {
   "cell_type": "code",
   "execution_count": 2,
   "metadata": {},
   "outputs": [
    {
     "output_type": "execute_result",
     "data": {
      "text/plain": "0    19680\n1      320\nName: Disbursed, dtype: int64"
     },
     "metadata": {},
     "execution_count": 2
    }
   ],
   "source": [
    "train = pd.read_csv('/Applications/py_workspace/data_mining/data/train_modified.csv')\n",
    "target = 'Disbursed'  #Disbursed的值就是二分类的输出\n",
    "IDcol = 'ID'\n",
    "train['Disbursed'].value_counts()"
   ]
  },
  {
   "cell_type": "code",
   "execution_count": 5,
   "metadata": {},
   "outputs": [],
   "source": [
    "#可见样本分类严重不均匀,除了id列，所有的列都是样本特征\n",
    "x_columns = [x for x in train.columns if x not in [target, IDcol]]\n",
    "X = train[x_columns]\n",
    "y = train['Disbursed']"
   ]
  },
  {
   "cell_type": "code",
   "execution_count": 6,
   "metadata": {
    "tags": []
   },
   "outputs": [
    {
     "output_type": "stream",
     "name": "stdout",
     "text": "Accuracy: 0.9852\nauc score(train): 0.900531\n"
    }
   ],
   "source": [
    "#先用默认参数做一次训练\n",
    "gbm0 = GradientBoostingClassifier(random_state=10)\n",
    "gbm0.fit(X,y)\n",
    "y_pred = gbm0.predict(X)\n",
    "y_predprob = gbm0.predict_proba(X)[:,1]\n",
    "print('Accuracy: %0.4f' % metrics.accuracy_score(y.values, y_pred))\n",
    "print('auc score(train): %f' %metrics.roc_auc_score(y, y_predprob))"
   ]
  },
  {
   "cell_type": "code",
   "execution_count": 9,
   "metadata": {},
   "outputs": [
    {
     "output_type": "execute_result",
     "data": {
      "text/plain": "({'n_estimators': 40}, 0.8145309324186991)"
     },
     "metadata": {},
     "execution_count": 9
    }
   ],
   "source": [
    "#开始调参，优化训练，先从步长和迭代次数开始，采用gridsearchcv，从小达到网格搜索，将learning_rate设为0.1\n",
    "#迭代次数 n_estimator, 弱学习器的个数，个数太少，容易欠拟合，太多容易过拟合，默认为100\n",
    "# learning_rate: 弱学习器的权重缩减系数，即步长，正则化项，防止过拟合，较小的步长则需要更多的迭代次数，通常和n_estimator一起调整\n",
    "# min_samples_split : 这个值限制了子树继续划分的次数，当某个节点的样本数少于min_samples_split时，停止划分\n",
    "# min_samples_leaf: 叶子结点最少的样本数，如果某叶子结点数小于这个值，则会被剪枝，默认为1， 样本树较大时，增大这个值\n",
    "# max_features : 划分时考虑的最大特征树, 可以使用很多种类型的值，控制决策树的生成时间\n",
    "# subsample：子采用比例\n",
    "param_test1 = {'n_estimators': range(20, 81, 10)}\n",
    "gbm1 = GridSearchCV(estimator = GradientBoostingClassifier(learning_rate = 0.1,  min_samples_split=300,\n",
    "                                  min_samples_leaf=20,max_depth=8,max_features='sqrt', subsample=0.8,random_state=10), param_grid= param_test1, scoring='roc_auc', iid= False, cv=5 )\n",
    "gbm1.fit(X, y)\n",
    "gbm1.best_params_, gbm1.best_score_\n",
    "\n",
    "\n"
   ]
  },
  {
   "cell_type": "code",
   "execution_count": 10,
   "metadata": {},
   "outputs": [
    {
     "output_type": "execute_result",
     "data": {
      "text/plain": "({'mean_fit_time': array([0.22730985, 0.2181242 , 0.21406155, 0.21741529, 0.30348263,\n         0.29530864, 0.29138165, 0.28919148, 0.38285651, 0.36578426,\n         0.35447736, 0.34656487, 0.46921711, 0.42896695, 0.40579576,\n         0.38906217, 0.53773556, 0.47845616, 0.44556098, 0.42233095,\n         0.59803023, 0.50959234, 0.47933025, 0.4334208 ]),\n  'std_fit_time': array([0.01446254, 0.00369881, 0.00110199, 0.00148393, 0.00201615,\n         0.00189224, 0.00285452, 0.00322006, 0.00432313, 0.00295606,\n         0.00212676, 0.00307929, 0.00461129, 0.00522346, 0.00294563,\n         0.00229689, 0.00541514, 0.00255906, 0.00781387, 0.00402202,\n         0.00986126, 0.00643464, 0.01329363, 0.00549807]),\n  'mean_score_time': array([0.00506563, 0.00497694, 0.00518098, 0.00527287, 0.00662603,\n         0.00582681, 0.00612812, 0.00613432, 0.0074677 , 0.00775104,\n         0.00763683, 0.00737038, 0.00900726, 0.00881925, 0.00791292,\n         0.00863433, 0.01010642, 0.00956855, 0.00916805, 0.00923438,\n         0.01161556, 0.01092863, 0.01009917, 0.00893936]),\n  'std_score_time': array([0.00043427, 0.00030078, 0.00029684, 0.00078888, 0.00080659,\n         0.00013864, 0.00055874, 0.00070044, 0.00059572, 0.00045938,\n         0.0007787 , 0.00075663, 0.00049638, 0.00069592, 0.00020861,\n         0.00017995, 0.00054892, 0.00058104, 0.00085346, 0.00062882,\n         0.00050196, 0.00025606, 0.00045276, 0.00027145]),\n  'param_max_depth': masked_array(data=[3, 3, 3, 3, 5, 5, 5, 5, 7, 7, 7, 7, 9, 9, 9, 9, 11, 11,\n                     11, 11, 13, 13, 13, 13],\n               mask=[False, False, False, False, False, False, False, False,\n                     False, False, False, False, False, False, False, False,\n                     False, False, False, False, False, False, False, False],\n         fill_value='?',\n              dtype=object),\n  'param_min_samples_split': masked_array(data=[100, 300, 500, 700, 100, 300, 500, 700, 100, 300, 500,\n                     700, 100, 300, 500, 700, 100, 300, 500, 700, 100, 300,\n                     500, 700],\n               mask=[False, False, False, False, False, False, False, False,\n                     False, False, False, False, False, False, False, False,\n                     False, False, False, False, False, False, False, False],\n         fill_value='?',\n              dtype=object),\n  'params': [{'max_depth': 3, 'min_samples_split': 100},\n   {'max_depth': 3, 'min_samples_split': 300},\n   {'max_depth': 3, 'min_samples_split': 500},\n   {'max_depth': 3, 'min_samples_split': 700},\n   {'max_depth': 5, 'min_samples_split': 100},\n   {'max_depth': 5, 'min_samples_split': 300},\n   {'max_depth': 5, 'min_samples_split': 500},\n   {'max_depth': 5, 'min_samples_split': 700},\n   {'max_depth': 7, 'min_samples_split': 100},\n   {'max_depth': 7, 'min_samples_split': 300},\n   {'max_depth': 7, 'min_samples_split': 500},\n   {'max_depth': 7, 'min_samples_split': 700},\n   {'max_depth': 9, 'min_samples_split': 100},\n   {'max_depth': 9, 'min_samples_split': 300},\n   {'max_depth': 9, 'min_samples_split': 500},\n   {'max_depth': 9, 'min_samples_split': 700},\n   {'max_depth': 11, 'min_samples_split': 100},\n   {'max_depth': 11, 'min_samples_split': 300},\n   {'max_depth': 11, 'min_samples_split': 500},\n   {'max_depth': 11, 'min_samples_split': 700},\n   {'max_depth': 13, 'min_samples_split': 100},\n   {'max_depth': 13, 'min_samples_split': 300},\n   {'max_depth': 13, 'min_samples_split': 500},\n   {'max_depth': 13, 'min_samples_split': 700}],\n  'split0_test_score': array([0.984  , 0.984  , 0.984  , 0.984  , 0.984  , 0.984  , 0.984  ,\n         0.984  , 0.984  , 0.984  , 0.984  , 0.984  , 0.98425, 0.984  ,\n         0.984  , 0.984  , 0.98425, 0.984  , 0.984  , 0.984  , 0.984  ,\n         0.984  , 0.984  , 0.984  ]),\n  'split1_test_score': array([0.984  , 0.984  , 0.984  , 0.984  , 0.984  , 0.984  , 0.984  ,\n         0.984  , 0.984  , 0.984  , 0.984  , 0.984  , 0.98375, 0.984  ,\n         0.984  , 0.984  , 0.983  , 0.98375, 0.984  , 0.984  , 0.98375,\n         0.984  , 0.984  , 0.984  ]),\n  'split2_test_score': array([0.984  , 0.984  , 0.984  , 0.984  , 0.984  , 0.984  , 0.984  ,\n         0.984  , 0.9835 , 0.984  , 0.984  , 0.984  , 0.98375, 0.984  ,\n         0.984  , 0.984  , 0.98375, 0.984  , 0.984  , 0.984  , 0.9835 ,\n         0.98375, 0.984  , 0.984  ]),\n  'split3_test_score': array([0.984  , 0.984  , 0.984  , 0.984  , 0.984  , 0.984  , 0.984  ,\n         0.984  , 0.984  , 0.984  , 0.984  , 0.984  , 0.98375, 0.984  ,\n         0.984  , 0.984  , 0.984  , 0.984  , 0.984  , 0.984  , 0.98375,\n         0.98425, 0.984  , 0.984  ]),\n  'split4_test_score': array([0.984 , 0.984 , 0.984 , 0.984 , 0.984 , 0.984 , 0.984 , 0.984 ,\n         0.984 , 0.984 , 0.984 , 0.984 , 0.984 , 0.984 , 0.984 , 0.984 ,\n         0.984 , 0.984 , 0.984 , 0.984 , 0.9835, 0.984 , 0.984 , 0.984 ]),\n  'mean_test_score': array([0.984  , 0.984  , 0.984  , 0.984  , 0.984  , 0.984  , 0.984  ,\n         0.984  , 0.9839 , 0.984  , 0.984  , 0.984  , 0.9839 , 0.984  ,\n         0.984  , 0.984  , 0.9838 , 0.98395, 0.984  , 0.984  , 0.9837 ,\n         0.984  , 0.984  , 0.984  ]),\n  'std_test_score': array([0.00000000e+00, 0.00000000e+00, 0.00000000e+00, 0.00000000e+00,\n         0.00000000e+00, 0.00000000e+00, 0.00000000e+00, 0.00000000e+00,\n         2.00000000e-04, 0.00000000e+00, 0.00000000e+00, 0.00000000e+00,\n         2.00000000e-04, 0.00000000e+00, 0.00000000e+00, 0.00000000e+00,\n         4.30116263e-04, 1.00000000e-04, 0.00000000e+00, 0.00000000e+00,\n         1.87082869e-04, 1.58113883e-04, 0.00000000e+00, 0.00000000e+00]),\n  'rank_test_score': array([ 1,  1,  1,  1,  1,  1,  1,  1, 21,  1,  1,  1, 21,  1,  1,  1, 23,\n         20,  1,  1, 24,  1,  1,  1], dtype=int32)},\n {'max_depth': 3, 'min_samples_split': 100},\n 0.984)"
     },
     "metadata": {},
     "execution_count": 10
    }
   ],
   "source": [
    "# 调整决策树的参数，对决策树的最大深度ma_depth 和内部结点再划分所需最小样本树进行网格搜索\n",
    "\n",
    "param_test2 = {'max_depth': range(3,14,2), 'min_samples_split': range(100, 801, 200)}\n",
    "\n",
    "gbm2 = GridSearchCV(estimator= GradientBoostingClassifier(n_estimators= 40, learning_rate= 0.1, min_samples_leaf=20, max_features='sqrt', subsample=0.8, random_state=10), param_grid=param_test2, iid=False, cv=5)\n",
    "\n",
    "gbm2.fit(X, y)\n",
    "gbm2.cv_results_, gbm2.best_params_, gbm2.best_score_"
   ]
  },
  {
   "cell_type": "code",
   "execution_count": 12,
   "metadata": {},
   "outputs": [
    {
     "output_type": "execute_result",
     "data": {
      "text/plain": "({'mean_fit_time': array([0.22166729, 0.21133714, 0.20978651, 0.20958757, 0.21032152,\n         0.21053214, 0.21085687, 0.21102891, 0.21864595, 0.21742163,\n         0.21753922, 0.2160871 , 0.2202188 , 0.21830788, 0.22087827,\n         0.21463389, 0.21873069, 0.21540976, 0.21838326, 0.21990676,\n         0.2178792 , 0.21853156, 0.21745596, 0.21676245, 0.2184711 ,\n         0.21941423, 0.2189116 , 0.21889458, 0.21893268, 0.21587968]),\n  'std_fit_time': array([0.01355302, 0.00076657, 0.00121727, 0.00146292, 0.00086583,\n         0.00186807, 0.00068864, 0.00052917, 0.00183057, 0.0004226 ,\n         0.0015694 , 0.00175484, 0.00188206, 0.00113489, 0.00292743,\n         0.00507548, 0.00135179, 0.00355505, 0.00120116, 0.00250634,\n         0.00185482, 0.00238392, 0.00130623, 0.00074965, 0.00211425,\n         0.00084706, 0.00239854, 0.00104598, 0.00212828, 0.00082923]),\n  'mean_score_time': array([0.00649691, 0.00652828, 0.00625606, 0.00614395, 0.00633559,\n         0.00633922, 0.00613837, 0.00657387, 0.00669503, 0.00658698,\n         0.00633516, 0.00658841, 0.00605755, 0.00666842, 0.00656676,\n         0.0063395 , 0.00662894, 0.00658436, 0.00638094, 0.00649424,\n         0.00623388, 0.00653481, 0.00648603, 0.00640273, 0.00676732,\n         0.00662146, 0.00681267, 0.00658102, 0.00653291, 0.00660453]),\n  'std_score_time': array([0.00036723, 0.00033447, 0.00043283, 0.00011856, 0.00023228,\n         0.00027634, 0.00017784, 0.00032801, 0.00080279, 0.00089261,\n         0.00051278, 0.00071304, 0.00020865, 0.00064928, 0.00063472,\n         0.00082774, 0.00078223, 0.00064568, 0.00055972, 0.00082031,\n         0.00032672, 0.00072793, 0.00056957, 0.00040589, 0.00074459,\n         0.00078937, 0.00062765, 0.00092164, 0.0007118 , 0.00068063]),\n  'param_min_samples_leaf': masked_array(data=[60, 60, 60, 60, 60, 60, 70, 70, 70, 70, 70, 70, 80, 80,\n                     80, 80, 80, 80, 90, 90, 90, 90, 90, 90, 100, 100, 100,\n                     100, 100, 100],\n               mask=[False, False, False, False, False, False, False, False,\n                     False, False, False, False, False, False, False, False,\n                     False, False, False, False, False, False, False, False,\n                     False, False, False, False, False, False],\n         fill_value='?',\n              dtype=object),\n  'param_min_samples_split': masked_array(data=[800, 1000, 1200, 1400, 1600, 1800, 800, 1000, 1200,\n                     1400, 1600, 1800, 800, 1000, 1200, 1400, 1600, 1800,\n                     800, 1000, 1200, 1400, 1600, 1800, 800, 1000, 1200,\n                     1400, 1600, 1800],\n               mask=[False, False, False, False, False, False, False, False,\n                     False, False, False, False, False, False, False, False,\n                     False, False, False, False, False, False, False, False,\n                     False, False, False, False, False, False],\n         fill_value='?',\n              dtype=object),\n  'params': [{'min_samples_leaf': 60, 'min_samples_split': 800},\n   {'min_samples_leaf': 60, 'min_samples_split': 1000},\n   {'min_samples_leaf': 60, 'min_samples_split': 1200},\n   {'min_samples_leaf': 60, 'min_samples_split': 1400},\n   {'min_samples_leaf': 60, 'min_samples_split': 1600},\n   {'min_samples_leaf': 60, 'min_samples_split': 1800},\n   {'min_samples_leaf': 70, 'min_samples_split': 800},\n   {'min_samples_leaf': 70, 'min_samples_split': 1000},\n   {'min_samples_leaf': 70, 'min_samples_split': 1200},\n   {'min_samples_leaf': 70, 'min_samples_split': 1400},\n   {'min_samples_leaf': 70, 'min_samples_split': 1600},\n   {'min_samples_leaf': 70, 'min_samples_split': 1800},\n   {'min_samples_leaf': 80, 'min_samples_split': 800},\n   {'min_samples_leaf': 80, 'min_samples_split': 1000},\n   {'min_samples_leaf': 80, 'min_samples_split': 1200},\n   {'min_samples_leaf': 80, 'min_samples_split': 1400},\n   {'min_samples_leaf': 80, 'min_samples_split': 1600},\n   {'min_samples_leaf': 80, 'min_samples_split': 1800},\n   {'min_samples_leaf': 90, 'min_samples_split': 800},\n   {'min_samples_leaf': 90, 'min_samples_split': 1000},\n   {'min_samples_leaf': 90, 'min_samples_split': 1200},\n   {'min_samples_leaf': 90, 'min_samples_split': 1400},\n   {'min_samples_leaf': 90, 'min_samples_split': 1600},\n   {'min_samples_leaf': 90, 'min_samples_split': 1800},\n   {'min_samples_leaf': 100, 'min_samples_split': 800},\n   {'min_samples_leaf': 100, 'min_samples_split': 1000},\n   {'min_samples_leaf': 100, 'min_samples_split': 1200},\n   {'min_samples_leaf': 100, 'min_samples_split': 1400},\n   {'min_samples_leaf': 100, 'min_samples_split': 1600},\n   {'min_samples_leaf': 100, 'min_samples_split': 1800}],\n  'split0_test_score': array([0.81059848, 0.81013402, 0.81070964, 0.80905623, 0.80756558,\n         0.80665849, 0.81145397, 0.81075529, 0.81168421, 0.81046946,\n         0.81015188, 0.80465773, 0.81112448, 0.81048137, 0.81149763,\n         0.80954252, 0.80783949, 0.80820868, 0.81059848, 0.8103067 ,\n         0.81069177, 0.809612  , 0.80754176, 0.80853619, 0.81378422,\n         0.81348649, 0.81325227, 0.81432014, 0.81029876, 0.8081015 ]),\n  'split1_test_score': array([0.78164698, 0.78585691, 0.78585691, 0.78470171, 0.78418366,\n         0.78314755, 0.7898247 , 0.78259377, 0.78259377, 0.78308403,\n         0.7824707 , 0.78349689, 0.78983065, 0.78858613, 0.78574973,\n         0.78294509, 0.78260369, 0.780988  , 0.78741902, 0.78400899,\n         0.78400899, 0.78409235, 0.78385417, 0.78423725, 0.78328252,\n         0.78459254, 0.78386608, 0.7853468 , 0.78597402, 0.78730588]),\n  'split2_test_score': array([0.76423161, 0.76656385, 0.77048598, 0.7626973 , 0.76287395,\n         0.76558332, 0.76397159, 0.76443209, 0.76526375, 0.76505335,\n         0.76157385, 0.76453331, 0.76694495, 0.7682113 , 0.77053362,\n         0.76207206, 0.76176837, 0.76597037, 0.76576593, 0.76605969,\n         0.76745705, 0.76757416, 0.75974975, 0.76731215, 0.76665515,\n         0.76610534, 0.76822917, 0.76465836, 0.76421176, 0.76721092]),\n  'split3_test_score': array([0.81534037, 0.81604103, 0.81604103, 0.81959794, 0.81858168,\n         0.81565199, 0.82169199, 0.82091987, 0.81826609, 0.82218028,\n         0.8211005 , 0.81734708, 0.82319455, 0.81903821, 0.81903821,\n         0.82197782, 0.82334739, 0.82144388, 0.81591995, 0.81604302,\n         0.81604302, 0.82121761, 0.82234304, 0.81969917, 0.82202347,\n         0.81815096, 0.81815096, 0.82307149, 0.81765673, 0.82002668]),\n  'split4_test_score': array([0.83174543, 0.83140601, 0.83195185, 0.83044533, 0.83041754,\n         0.83029646, 0.83316462, 0.83107057, 0.83083238, 0.82944495,\n         0.83054457, 0.83043937, 0.82889513, 0.82797415, 0.8274819 ,\n         0.82825799, 0.83000865, 0.82878001, 0.83148938, 0.83087605,\n         0.82885742, 0.83095743, 0.82944693, 0.82781734, 0.83476443,\n         0.83532616, 0.83458182, 0.83439723, 0.83260687, 0.83422653]),\n  'mean_test_score': array([0.80071257, 0.80200037, 0.80300908, 0.8012997 , 0.80072448,\n         0.80026756, 0.80402137, 0.80195432, 0.80172804, 0.80204641,\n         0.8011683 , 0.80009488, 0.80399795, 0.80285823, 0.80286022,\n         0.8009591 , 0.80111352, 0.80107819, 0.80223855, 0.80145889,\n         0.80141165, 0.80269071, 0.80058713, 0.80152042, 0.80410196,\n         0.8035323 , 0.80361606, 0.8043588 , 0.80214963, 0.8033743 ]),\n  'std_test_score': array([0.02436842, 0.02299716, 0.02199438, 0.02453608, 0.02430481,\n         0.02313159, 0.02458599, 0.02476955, 0.0241473 , 0.02431073,\n         0.02552757, 0.02357696, 0.02285959, 0.02170169, 0.02135574,\n         0.02488934, 0.02555452, 0.02395484, 0.02307618, 0.02329786,\n         0.02240194, 0.02353393, 0.02569925, 0.02253943, 0.02526193,\n         0.02483196, 0.02410516, 0.02564871, 0.02422996, 0.02373812]),\n  'rank_test_score': array([27, 15,  8, 21, 26, 29,  3, 16, 17, 14, 22, 30,  4, 10,  9, 25, 23,\n         24, 12, 19, 20, 11, 28, 18,  2,  6,  5,  1, 13,  7], dtype=int32)},\n {'min_samples_leaf': 100, 'min_samples_split': 1400},\n 0.8043588033536585)"
     },
     "metadata": {},
     "execution_count": 12
    }
   ],
   "source": [
    "#最大深度是3，由于叶子节点的划分还和决策树的其他指标有关，因此，先不做确认\n",
    "param_test3 = {'min_samples_split':range(800,1900,200), 'min_samples_leaf':range(60,101,10)}\n",
    "gbm3 = GridSearchCV(estimator = GradientBoostingClassifier(learning_rate=0.1, n_estimators=40,max_depth=3,\n",
    "                                     max_features='sqrt', subsample=0.8, random_state=10), \n",
    "                       param_grid = param_test3, scoring='roc_auc',iid=False, cv=5)\n",
    "gbm3.fit(X,y)\n",
    "gbm3.cv_results_, gbm3.best_params_, gbm3.best_score_"
   ]
  },
  {
   "cell_type": "code",
   "execution_count": 13,
   "metadata": {
    "tags": []
   },
   "outputs": [
    {
     "output_type": "stream",
     "name": "stdout",
     "text": "Accuracy : 0.984\nAUC Score (Train): 0.836524\n"
    }
   ],
   "source": [
    "gbm4 = GradientBoostingClassifier(learning_rate=0.1, n_estimators=40,max_depth=3, min_samples_leaf =100, \n",
    "               min_samples_split =1400, max_features='sqrt', subsample=0.8, random_state=10)\n",
    "gbm4.fit(X,y)\n",
    "y_pred = gbm4.predict(X)\n",
    "y_predprob = gbm4.predict_proba(X)[:,1]\n",
    "print (\"Accuracy : %.4g\" % metrics.accuracy_score(y.values, y_pred))\n",
    "print (\"AUC Score (Train): %f\" % metrics.roc_auc_score(y, y_predprob))"
   ]
  },
  {
   "cell_type": "code",
   "execution_count": 15,
   "metadata": {},
   "outputs": [
    {
     "output_type": "execute_result",
     "data": {
      "text/plain": "({'max_features': 7}, 0.984)"
     },
     "metadata": {},
     "execution_count": 15
    }
   ],
   "source": [
    "#调参后准确率有所下降，主要是我们只用了80%的样本，接下来继续调整max_features\n",
    "\n",
    "param_test4 = {'max_features': range(7, 20, 2)}\n",
    "gbm5 = GridSearchCV(estimator=GradientBoostingClassifier(n_estimators=40, min_samples_leaf= 100, learning_rate=0.1, min_samples_split=1400, subsample=0.8, random_state=10), param_grid=param_test4, iid=False, cv=5)\n",
    "gbm5.fit(X,y)\n",
    "gbm5.best_params_, gbm5.best_score_"
   ]
  },
  {
   "cell_type": "code",
   "execution_count": 16,
   "metadata": {},
   "outputs": [
    {
     "output_type": "execute_result",
     "data": {
      "text/plain": "({'subsample': 0.9}, 0.8033639799288619)"
     },
     "metadata": {},
     "execution_count": 16
    }
   ],
   "source": [
    "# 网格搜索subsample\n",
    "\n",
    "param_test5 = {'subsample':[0.6,0.7,0.75,0.8,0.85,0.9]}\n",
    "gbm6 = GridSearchCV(estimator = GradientBoostingClassifier(learning_rate=0.1, n_estimators=40,max_depth=3, min_samples_leaf =100, \n",
    "               min_samples_split =1400, max_features=3, random_state=10), \n",
    "                       param_grid = param_test5, scoring='roc_auc',iid=False, cv=5)\n",
    "gbm6.fit(X,y)\n",
    "gbm6.best_params_, gbm6.best_score_"
   ]
  },
  {
   "cell_type": "code",
   "execution_count": 17,
   "metadata": {
    "tags": []
   },
   "outputs": [
    {
     "output_type": "stream",
     "name": "stdout",
     "text": "Accuracy : 0.984\nAUC Score (Train): 0.838592\n"
    }
   ],
   "source": [
    "#减小步长，增大迭代次数\n",
    "gbm6 = GradientBoostingClassifier(learning_rate=0.05, n_estimators=80,max_depth=3, min_samples_leaf =100, \n",
    "               min_samples_split =1400, max_features='sqrt', subsample=0.9, random_state=10)\n",
    "gbm6.fit(X,y)\n",
    "y_pred = gbm6.predict(X)\n",
    "y_predprob = gbm6.predict_proba(X)[:,1]\n",
    "print (\"Accuracy : %.4g\" % metrics.accuracy_score(y.values, y_pred))\n",
    "print (\"AUC Score (Train): %f\" % metrics.roc_auc_score(y, y_predprob))"
   ]
  },
  {
   "cell_type": "code",
   "execution_count": 20,
   "metadata": {
    "tags": []
   },
   "outputs": [
    {
     "output_type": "stream",
     "name": "stdout",
     "text": "Accuracy : 0.984\nAUC Score (Train): 0.839670\n"
    }
   ],
   "source": [
    "#减小步长，增大迭代次数\n",
    "gbm6 = GradientBoostingClassifier(learning_rate=0.01, n_estimators=320,max_depth=3, min_samples_leaf =100, \n",
    "               min_samples_split =1400, max_features='sqrt', subsample=0.9, random_state=10)\n",
    "gbm6.fit(X,y)\n",
    "y_pred = gbm6.predict(X)\n",
    "y_predprob = gbm6.predict_proba(X)[:,1]\n",
    "print (\"Accuracy : %.4g\" % metrics.accuracy_score(y.values, y_pred))\n",
    "print (\"AUC Score (Train): %f\" % metrics.roc_auc_score(y, y_predprob))"
   ]
  },
  {
   "cell_type": "code",
   "execution_count": 21,
   "metadata": {
    "tags": []
   },
   "outputs": [
    {
     "output_type": "stream",
     "name": "stdout",
     "text": "Accuracy : 0.984\nAUC Score (Train): 0.844555\n"
    }
   ],
   "source": [
    "#减小步长，增大迭代次数\n",
    "gbm7 = GradientBoostingClassifier(learning_rate=0.01, n_estimators=400,max_depth=3, min_samples_leaf =100, \n",
    "               min_samples_split =1400, max_features='sqrt', subsample=0.9, random_state=10)\n",
    "gbm7.fit(X,y)\n",
    "y_pred = gbm7.predict(X)\n",
    "y_predprob = gbm7.predict_proba(X)[:,1]\n",
    "print (\"Accuracy : %.4g\" % metrics.accuracy_score(y.values, y_pred))\n",
    "print (\"AUC Score (Train): %f\" % metrics.roc_auc_score(y, y_predprob))"
   ]
  },
  {
   "cell_type": "code",
   "execution_count": null,
   "metadata": {},
   "outputs": [],
   "source": [
    "#可以继续调整步长和迭代次数，但是感觉这次训练从找到的最有max_depth=3时就有问题了，不再继续训练，总体思路基本如上"
   ]
  }
 ]
}